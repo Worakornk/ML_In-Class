{
 "cells": [
  {
   "cell_type": "markdown",
   "metadata": {},
   "source": [
    "Data Preprocessing"
   ]
  },
  {
   "cell_type": "code",
   "execution_count": 3,
   "metadata": {},
   "outputs": [],
   "source": [
    "import pandas as pd\n",
    "from sklearn.preprocessing import StandardScaler"
   ]
  },
  {
   "cell_type": "code",
   "execution_count": 6,
   "metadata": {},
   "outputs": [
    {
     "name": "stdout",
     "output_type": "stream",
     "text": [
      "Original Dataset:\n",
      "   No  TestD  TestM  TestY TankID   Fat  Prot  Lact   SNF     TS SCC  Mlkcow  \\\n",
      "0   1     11      1   2017     16  3.38  3.11  5.01  8.82  12.20  211     19   \n",
      "1   2     11      1   2017     21  3.69  2.87  5.04  8.61  12.30  111      7   \n",
      "2   3     11      1   2017     31  3.78  3.03  4.97  8.70  12.48  171     18   \n",
      "3   4     11      1   2017     40  3.16  3.16  4.80  8.67  11.83  380     13   \n",
      "4   5     11      1   2017     41  4.00  3.26  4.97  8.93  12.93  468     48   \n",
      "\n",
      "  Farmsize  \n",
      "0   Medium  \n",
      "1    Small  \n",
      "2   Medium  \n",
      "3   Medium  \n",
      "4    Large  \n"
     ]
    }
   ],
   "source": [
    "data = pd.read_csv('../data/DairyMilkQuality-20240223.csv')\n",
    "\n",
    "print(\"Original Dataset:\")\n",
    "print(data.head())"
   ]
  },
  {
   "cell_type": "markdown",
   "metadata": {},
   "source": [
    "Feature Selection"
   ]
  },
  {
   "cell_type": "code",
   "execution_count": null,
   "metadata": {},
   "outputs": [],
   "source": []
  },
  {
   "cell_type": "markdown",
   "metadata": {},
   "source": [
    "Clustering Algorithm"
   ]
  },
  {
   "cell_type": "code",
   "execution_count": null,
   "metadata": {},
   "outputs": [],
   "source": []
  },
  {
   "cell_type": "markdown",
   "metadata": {},
   "source": [
    "Model Training"
   ]
  },
  {
   "cell_type": "code",
   "execution_count": null,
   "metadata": {},
   "outputs": [],
   "source": []
  },
  {
   "cell_type": "markdown",
   "metadata": {},
   "source": [
    "Model Evaluation"
   ]
  },
  {
   "cell_type": "code",
   "execution_count": null,
   "metadata": {},
   "outputs": [],
   "source": []
  },
  {
   "cell_type": "markdown",
   "metadata": {},
   "source": [
    "Interpretation and Analysis"
   ]
  },
  {
   "cell_type": "code",
   "execution_count": null,
   "metadata": {},
   "outputs": [],
   "source": []
  }
 ],
 "metadata": {
  "kernelspec": {
   "display_name": "worakornk",
   "language": "python",
   "name": "python3"
  },
  "language_info": {
   "codemirror_mode": {
    "name": "ipython",
    "version": 3
   },
   "file_extension": ".py",
   "mimetype": "text/x-python",
   "name": "python",
   "nbconvert_exporter": "python",
   "pygments_lexer": "ipython3",
   "version": "3.12.1"
  }
 },
 "nbformat": 4,
 "nbformat_minor": 2
}
